{
 "cells": [
  {
   "cell_type": "markdown",
   "id": "c1435024-2bd2-47de-b520-fcd3fa471a40",
   "metadata": {},
   "source": [
    "# Explore PZ Cosmos 2020 catalog"
   ]
  },
  {
   "cell_type": "markdown",
   "id": "9e409d48-6f24-4095-a6dc-61437a0aa0f2",
   "metadata": {},
   "source": [
    "- author : Sylvie Dagoret-Campagne\n",
    "- affiliation : IJCLab\n",
    "- creation date : 2022-04-20\n",
    "\n",
    "\n",
    "See https://cosmos.astro.caltech.edu/"
   ]
  },
  {
   "cell_type": "code",
   "execution_count": 1,
   "id": "3d9c8f96-670e-4531-90db-0175bd76583a",
   "metadata": {},
   "outputs": [],
   "source": [
    "%load_ext autoreload\n",
    "%autoreload 2"
   ]
  },
  {
   "cell_type": "code",
   "execution_count": 2,
   "id": "51e11d96-469e-42d8-8ca6-ad5d35b0b892",
   "metadata": {},
   "outputs": [],
   "source": [
    "%matplotlib inline\n",
    "import os\n",
    "import numpy as np\n",
    "from matplotlib.ticker import FormatStrFormatter\n",
    "import matplotlib.pyplot as plt\n",
    "from scipy.interpolate import InterpolatedUnivariateSpline, interp1d\n",
    "from scipy.special import erfc\n",
    "import pandas as pd\n",
    "import seaborn as sns \n",
    "import itertools\n",
    "sns.set_style(\"white\")\n",
    "sns.set_context(\"notebook\", font_scale=1.0, rc={\"lines.linewidth\": 2.5})\n",
    "sns.set_palette(sns.color_palette([\"#9b59b6\", \"#95a5a6\", \n",
    "                                   \"#e74c3c\", \"#3498db\", \n",
    "                                   \"#34495e\", \"#2ecc71\"]))"
   ]
  },
  {
   "cell_type": "code",
   "execution_count": 3,
   "id": "10fab5d7-8dfd-4219-a2b4-2766957305ee",
   "metadata": {},
   "outputs": [
    {
     "name": "stdout",
     "output_type": "stream",
     "text": [
      "/sps/lsst/groups/auxtel/softs/utils/anaconda3/bin/python\n",
      "3.8.5 (default, Sep  4 2020, 07:30:14) \n",
      "[GCC 7.3.0]\n"
     ]
    }
   ],
   "source": [
    "import sys\n",
    "print(sys.executable)\n",
    "print(sys.version)\n",
    "#print(sys.version_info)"
   ]
  },
  {
   "cell_type": "code",
   "execution_count": 4,
   "id": "47d255b4-cc36-43df-86a3-b5dfdf9bc7f2",
   "metadata": {},
   "outputs": [],
   "source": [
    "from astropy.io import fits\n",
    "import pandas"
   ]
  },
  {
   "cell_type": "code",
   "execution_count": 5,
   "id": "32e55390-4b82-4bfa-a0ce-92c8bfe081b0",
   "metadata": {},
   "outputs": [],
   "source": [
    "bad_path = ['/opt/conda/lib/python3.8/site-packages']"
   ]
  },
  {
   "cell_type": "code",
   "execution_count": 6,
   "id": "80e1a894-df1c-401f-91be-87d8f6abfe3e",
   "metadata": {},
   "outputs": [],
   "source": [
    "sys.path.remove(bad_path[0])"
   ]
  },
  {
   "cell_type": "code",
   "execution_count": 7,
   "id": "dcc4684e-bd73-4da4-9d14-bdb9b8c6f6b1",
   "metadata": {},
   "outputs": [],
   "source": [
    "from astropy.io import fits\n",
    "from astropy.table import Table"
   ]
  },
  {
   "cell_type": "code",
   "execution_count": 8,
   "id": "1c385575-e693-4fc3-a9cd-ecf9b54edc81",
   "metadata": {},
   "outputs": [],
   "source": [
    "# Set up some plotting defaults:\n",
    "\n",
    "params = {'axes.labelsize': 28,\n",
    "          'font.size': 24,\n",
    "          'legend.fontsize': 14,\n",
    "          'xtick.major.width': 3,\n",
    "          'xtick.minor.width': 2,\n",
    "          'xtick.major.size': 12,\n",
    "          'xtick.minor.size': 6,\n",
    "          'xtick.direction': 'in',\n",
    "          'xtick.top': True,\n",
    "          'lines.linewidth': 3,\n",
    "          'axes.linewidth': 3,\n",
    "          'axes.labelweight': 3,\n",
    "          'axes.titleweight': 3,\n",
    "          'ytick.major.width': 3,\n",
    "          'ytick.minor.width': 2,\n",
    "          'ytick.major.size': 12,\n",
    "          'ytick.minor.size': 6,\n",
    "          'ytick.direction': 'in',\n",
    "          'ytick.left': True,\n",
    "          'figure.figsize': [18, 10],\n",
    "          'figure.facecolor': 'White'\n",
    "          }\n",
    "\n",
    "plt.rcParams.update(params)"
   ]
  },
  {
   "cell_type": "markdown",
   "id": "6ee0a86a-03b4-4d91-8df3-86f52d856019",
   "metadata": {},
   "source": [
    "# Input"
   ]
  },
  {
   "cell_type": "code",
   "execution_count": 9,
   "id": "cc23bb91-da80-4416-a424-6c34609682ec",
   "metadata": {},
   "outputs": [],
   "source": [
    "path_cosmos = \"../data/cosmos2020/COSMOS2020_R1\"\n",
    "path_cosmos_pz = \"../data/cosmos2020/COSMOS2020_R1/PZ\""
   ]
  },
  {
   "cell_type": "code",
   "execution_count": 10,
   "id": "eb99181f-99bd-4e6f-a670-cd53fa5725da",
   "metadata": {},
   "outputs": [
    {
     "name": "stdout",
     "output_type": "stream",
     "text": [
      "ls: unparsable value for LS_COLORS environment variable\n",
      "COSMOS2020_CLASSIC_R1_v2.0_EAZY_CZ.fits\n",
      "COSMOS2020_CLASSIC_R1_v2.0_LEPHARE_PZ.fits\n",
      "COSMOS2020_FARMER_R1_v2.0_EAZY_CZ.fits\n",
      "COSMOS2020_FARMER_R1_v2.0_LEPHARE_PZ.fits\n",
      "eazy_zcdf_pdf.txt\n",
      "PZ_README\n"
     ]
    }
   ],
   "source": [
    "ls ../data/cosmos2020/COSMOS2020_R1/PZ"
   ]
  },
  {
   "cell_type": "code",
   "execution_count": 11,
   "id": "69cad4d7-98ac-43a3-b0a2-6cc94a948e44",
   "metadata": {},
   "outputs": [
    {
     "name": "stdout",
     "output_type": "stream",
     "text": [
      "FILES\n",
      "------\n",
      "COSMOS2020_submitted.pdf -- latest version of the paper (includes some bolded changes!)\n",
      "\n",
      "COSMOS2020_CLASSIC_R1_v2.0.fits -- release version for Classic\n",
      "COSMOS2020_CLASSIC_R1_v2.0.header -- corresponding header for release version\n",
      "\n",
      "COSMOS2020_FARMER_R1_v2.0.fits -- release version for Farmer\n",
      "COSMOS2020_FARMER_R1_v2.0.header -- corresponding header for release version\n",
      "\n",
      "COSMOS2020_prepare_apertures.txt -- Galactic extinction + aper->total corrections (python)\n",
      "\n",
      "MASKS/\n",
      " - MASK_*.reg -- DS9 region files for HSC, SUPCAM, UVISTA, UDEEP\n",
      " - flags_in_catalog.png -- easy to read summary of regions\n",
      " - MASKS_README.txt -- readme file for regions\n",
      "\n",
      "PZ/\n",
      " - COSMOS2020_CLASSIC_R1_v2.0_EAZY_CZ.fits -- EAZY CDF(z) for Classic\n",
      " - COSMOS2020_CLASSIC_R1_v2.0_LEPHARE_PZ.fits -- Le Phare P(z) for Classic\n",
      "\n",
      " - COSMOS2020_FARMER_R1_v2.0_EAZY_CZ.fits -- EAZY CDF(z) for Farmer\n",
      " - COSMOS2020_FARMER_R1_v2.0_LEPHARE_PZ.fits -- Le Phare P(z) for Farmer\n",
      "\n",
      " - eazy_zcdf_pdf.txt -- script for converting EAZY CDF(z) to P(z)\n",
      "\n",
      "----- NOT FOR ANY RELEASE, TEAM OR PUBLIC ---\n",
      "AUX/ (Parent and ancillary data products with complete listing of columns)\n",
      " - COSMOS2020_CLASSIC_R1_v2.0_master.fits -- internal catalog-team version\n",
      " - COSMOS2020_FARMER_R1_v2.0_master.fits -- internal catalog-team version\n",
      " - COSMOS2020_FARMER_R1_v2.0_aux.fits -- ancillary farmer measurements\n",
      "\n"
     ]
    }
   ],
   "source": [
    "! cat ../data/cosmos2020/COSMOS2020_R1/README"
   ]
  },
  {
   "cell_type": "code",
   "execution_count": 12,
   "id": "0a7e94b0-6078-4fac-9e06-24c19d40f603",
   "metadata": {},
   "outputs": [
    {
     "name": "stdout",
     "output_type": "stream",
     "text": [
      "For each source, for both catalogues we provide the probability redshift distributions or p(z). These are stored as fits files. \n",
      "\n",
      "The p(z) results from lephare are recorded as the likelihood at a given z spanning a baseline from z=0 to 12 sampling in 500 points of equal-z.  \n",
      "\n",
      "Slightly differently, the p(z) results from eazy are stored instead as 50 samplings of the cumulative redshift probability distribution or cdf(z), equally spaced according to multiples of the standard deviation of a Gaussian distribution. As such, the p(z) can be easily reconstructed from the relatively more compact cdf(z) data without a significant loss of precision. Alternatively, users may find it advantageous to simply assess the probability of a source being in a certain redshift range by taking the difference in the cdf(z) at two z points, equivalent to integrating the p(z) but with much less computational effort. A script is provided to help users access and use this format.\n",
      "\n",
      "Details of the array formatting can be found in the FITS headers."
     ]
    }
   ],
   "source": [
    "! cat ../data/cosmos2020/COSMOS2020_R1/PZ/PZ_README"
   ]
  },
  {
   "cell_type": "code",
   "execution_count": 13,
   "id": "ca69f02a-62b1-45da-a2c5-df9abcd93e03",
   "metadata": {},
   "outputs": [],
   "source": [
    "inputfile_pz = os.path.join(path_cosmos_pz,\"COSMOS2020_CLASSIC_R1_v2.0_LEPHARE_PZ.fits\") "
   ]
  },
  {
   "cell_type": "code",
   "execution_count": 18,
   "id": "25a4288e-9428-4398-a117-531c7677e624",
   "metadata": {},
   "outputs": [],
   "source": [
    "hdu = fits.open(inputfile_pz)"
   ]
  },
  {
   "cell_type": "code",
   "execution_count": 19,
   "id": "5f6fb909-a0e1-4a9d-bc89-63a9aeb5d091",
   "metadata": {},
   "outputs": [
    {
     "name": "stdout",
     "output_type": "stream",
     "text": [
      "Filename: ../data/cosmos2020/COSMOS2020_R1/PZ/COSMOS2020_CLASSIC_R1_v2.0_LEPHARE_PZ.fits\n",
      "No.    Name      Ver    Type      Cards   Dimensions   Format\n",
      "  0  PRIMARY       1 PrimaryHDU       8   (1002, 1720701)   float32   \n"
     ]
    }
   ],
   "source": [
    "hdu.info()"
   ]
  },
  {
   "cell_type": "code",
   "execution_count": 22,
   "id": "e7db467b-505b-4e04-8769-b98ed8f8c3ad",
   "metadata": {},
   "outputs": [
    {
     "data": {
      "text/plain": [
       "SIMPLE  =                    T / conforms to FITS standard                      \n",
       "BITPIX  =                  -32 / array data type                                \n",
       "NAXIS   =                    2 / number of array dimensions                     \n",
       "NAXIS1  =                 1002                                                  \n",
       "NAXIS2  =              1720701                                                  \n",
       "EXTEND  =                    T                                                  \n",
       "COMMENT First column contains object ID                                         \n",
       "COMMENT First row contains corresponding redshift for p(z)                      "
      ]
     },
     "execution_count": 22,
     "metadata": {},
     "output_type": "execute_result"
    }
   ],
   "source": [
    "hdu[0].header"
   ]
  },
  {
   "cell_type": "code",
   "execution_count": 21,
   "id": "be1dbfa7-80b6-4f57-88b4-c602fe971438",
   "metadata": {},
   "outputs": [
    {
     "data": {
      "text/plain": [
       "(1720701, 1002)"
      ]
     },
     "execution_count": 21,
     "metadata": {},
     "output_type": "execute_result"
    }
   ],
   "source": [
    "hdu[0].data.shape"
   ]
  },
  {
   "cell_type": "code",
   "execution_count": 14,
   "id": "43209184-d19e-4733-97b0-3cb578e0a1a0",
   "metadata": {},
   "outputs": [],
   "source": [
    "#t = Table.read(inputfile_pz , hdu=1)  \n",
    "#t.columns"
   ]
  },
  {
   "cell_type": "code",
   "execution_count": 16,
   "id": "f521cdb7-96f1-470e-9bbe-4fdb4ac314e6",
   "metadata": {},
   "outputs": [],
   "source": [
    "with fits.open(inputfile_pz) as data:\n",
    "    df = pandas.DataFrame(data[0].data)"
   ]
  },
  {
   "cell_type": "code",
   "execution_count": 17,
   "id": "b3eeb552-7f02-4aca-9143-92dd21b3485a",
   "metadata": {},
   "outputs": [
    {
     "data": {
      "text/html": [
       "<div>\n",
       "<style scoped>\n",
       "    .dataframe tbody tr th:only-of-type {\n",
       "        vertical-align: middle;\n",
       "    }\n",
       "\n",
       "    .dataframe tbody tr th {\n",
       "        vertical-align: top;\n",
       "    }\n",
       "\n",
       "    .dataframe thead th {\n",
       "        text-align: right;\n",
       "    }\n",
       "</style>\n",
       "<table border=\"1\" class=\"dataframe\">\n",
       "  <thead>\n",
       "    <tr style=\"text-align: right;\">\n",
       "      <th></th>\n",
       "      <th>0</th>\n",
       "      <th>1</th>\n",
       "      <th>2</th>\n",
       "      <th>3</th>\n",
       "      <th>4</th>\n",
       "      <th>5</th>\n",
       "      <th>6</th>\n",
       "      <th>7</th>\n",
       "      <th>8</th>\n",
       "      <th>9</th>\n",
       "      <th>...</th>\n",
       "      <th>992</th>\n",
       "      <th>993</th>\n",
       "      <th>994</th>\n",
       "      <th>995</th>\n",
       "      <th>996</th>\n",
       "      <th>997</th>\n",
       "      <th>998</th>\n",
       "      <th>999</th>\n",
       "      <th>1000</th>\n",
       "      <th>1001</th>\n",
       "    </tr>\n",
       "  </thead>\n",
       "  <tbody>\n",
       "    <tr>\n",
       "      <th>0</th>\n",
       "      <td>NaN</td>\n",
       "      <td>0.000000</td>\n",
       "      <td>0.010000</td>\n",
       "      <td>0.020000</td>\n",
       "      <td>0.030000</td>\n",
       "      <td>0.040000</td>\n",
       "      <td>0.050000</td>\n",
       "      <td>0.060000</td>\n",
       "      <td>0.070000</td>\n",
       "      <td>0.080000</td>\n",
       "      <td>...</td>\n",
       "      <td>9.91</td>\n",
       "      <td>9.92</td>\n",
       "      <td>9.93</td>\n",
       "      <td>9.94</td>\n",
       "      <td>9.95</td>\n",
       "      <td>9.96</td>\n",
       "      <td>9.97</td>\n",
       "      <td>9.98</td>\n",
       "      <td>9.99</td>\n",
       "      <td>10.0</td>\n",
       "    </tr>\n",
       "    <tr>\n",
       "      <th>1</th>\n",
       "      <td>1.0</td>\n",
       "      <td>0.000000</td>\n",
       "      <td>0.000000</td>\n",
       "      <td>0.000000</td>\n",
       "      <td>0.000000</td>\n",
       "      <td>0.000000</td>\n",
       "      <td>0.000000</td>\n",
       "      <td>0.000000</td>\n",
       "      <td>0.000000</td>\n",
       "      <td>0.000007</td>\n",
       "      <td>...</td>\n",
       "      <td>0.00</td>\n",
       "      <td>0.00</td>\n",
       "      <td>0.00</td>\n",
       "      <td>0.00</td>\n",
       "      <td>0.00</td>\n",
       "      <td>0.00</td>\n",
       "      <td>0.00</td>\n",
       "      <td>0.00</td>\n",
       "      <td>0.00</td>\n",
       "      <td>0.0</td>\n",
       "    </tr>\n",
       "    <tr>\n",
       "      <th>2</th>\n",
       "      <td>2.0</td>\n",
       "      <td>0.000000</td>\n",
       "      <td>0.000000</td>\n",
       "      <td>0.000000</td>\n",
       "      <td>0.000000</td>\n",
       "      <td>0.000000</td>\n",
       "      <td>0.000000</td>\n",
       "      <td>0.000000</td>\n",
       "      <td>0.000000</td>\n",
       "      <td>0.000000</td>\n",
       "      <td>...</td>\n",
       "      <td>0.00</td>\n",
       "      <td>0.00</td>\n",
       "      <td>0.00</td>\n",
       "      <td>0.00</td>\n",
       "      <td>0.00</td>\n",
       "      <td>0.00</td>\n",
       "      <td>0.00</td>\n",
       "      <td>0.00</td>\n",
       "      <td>0.00</td>\n",
       "      <td>0.0</td>\n",
       "    </tr>\n",
       "    <tr>\n",
       "      <th>3</th>\n",
       "      <td>3.0</td>\n",
       "      <td>31.419884</td>\n",
       "      <td>13.482229</td>\n",
       "      <td>5.323507</td>\n",
       "      <td>2.120052</td>\n",
       "      <td>0.834505</td>\n",
       "      <td>0.325313</td>\n",
       "      <td>0.109204</td>\n",
       "      <td>0.037099</td>\n",
       "      <td>0.015821</td>\n",
       "      <td>...</td>\n",
       "      <td>0.00</td>\n",
       "      <td>0.00</td>\n",
       "      <td>0.00</td>\n",
       "      <td>0.00</td>\n",
       "      <td>0.00</td>\n",
       "      <td>0.00</td>\n",
       "      <td>0.00</td>\n",
       "      <td>0.00</td>\n",
       "      <td>0.00</td>\n",
       "      <td>0.0</td>\n",
       "    </tr>\n",
       "    <tr>\n",
       "      <th>4</th>\n",
       "      <td>4.0</td>\n",
       "      <td>0.000000</td>\n",
       "      <td>0.000187</td>\n",
       "      <td>0.000177</td>\n",
       "      <td>0.000169</td>\n",
       "      <td>0.000159</td>\n",
       "      <td>0.000137</td>\n",
       "      <td>0.000096</td>\n",
       "      <td>0.000048</td>\n",
       "      <td>0.000038</td>\n",
       "      <td>...</td>\n",
       "      <td>0.00</td>\n",
       "      <td>0.00</td>\n",
       "      <td>0.00</td>\n",
       "      <td>0.00</td>\n",
       "      <td>0.00</td>\n",
       "      <td>0.00</td>\n",
       "      <td>0.00</td>\n",
       "      <td>0.00</td>\n",
       "      <td>0.00</td>\n",
       "      <td>0.0</td>\n",
       "    </tr>\n",
       "  </tbody>\n",
       "</table>\n",
       "<p>5 rows × 1002 columns</p>\n",
       "</div>"
      ],
      "text/plain": [
       "   0          1          2         3         4         5         6     \\\n",
       "0   NaN   0.000000   0.010000  0.020000  0.030000  0.040000  0.050000   \n",
       "1   1.0   0.000000   0.000000  0.000000  0.000000  0.000000  0.000000   \n",
       "2   2.0   0.000000   0.000000  0.000000  0.000000  0.000000  0.000000   \n",
       "3   3.0  31.419884  13.482229  5.323507  2.120052  0.834505  0.325313   \n",
       "4   4.0   0.000000   0.000187  0.000177  0.000169  0.000159  0.000137   \n",
       "\n",
       "       7         8         9     ...  992   993   994   995   996   997   \\\n",
       "0  0.060000  0.070000  0.080000  ...  9.91  9.92  9.93  9.94  9.95  9.96   \n",
       "1  0.000000  0.000000  0.000007  ...  0.00  0.00  0.00  0.00  0.00  0.00   \n",
       "2  0.000000  0.000000  0.000000  ...  0.00  0.00  0.00  0.00  0.00  0.00   \n",
       "3  0.109204  0.037099  0.015821  ...  0.00  0.00  0.00  0.00  0.00  0.00   \n",
       "4  0.000096  0.000048  0.000038  ...  0.00  0.00  0.00  0.00  0.00  0.00   \n",
       "\n",
       "   998   999   1000  1001  \n",
       "0  9.97  9.98  9.99  10.0  \n",
       "1  0.00  0.00  0.00   0.0  \n",
       "2  0.00  0.00  0.00   0.0  \n",
       "3  0.00  0.00  0.00   0.0  \n",
       "4  0.00  0.00  0.00   0.0  \n",
       "\n",
       "[5 rows x 1002 columns]"
      ]
     },
     "execution_count": 17,
     "metadata": {},
     "output_type": "execute_result"
    }
   ],
   "source": [
    "df.head()"
   ]
  },
  {
   "cell_type": "code",
   "execution_count": null,
   "id": "70e8c631-507d-4bfa-8376-5d9794826100",
   "metadata": {},
   "outputs": [],
   "source": [
    "df.dropna(axis=1, how='all',inplace=True)"
   ]
  },
  {
   "cell_type": "code",
   "execution_count": null,
   "id": "a2f0c4ad-6f97-4b94-b082-2c1e584a0dcf",
   "metadata": {},
   "outputs": [],
   "source": [
    "df.head()"
   ]
  },
  {
   "cell_type": "code",
   "execution_count": null,
   "id": "f344dfbc-7280-4a81-a957-925e5de8472f",
   "metadata": {},
   "outputs": [],
   "source": [
    "len(df)"
   ]
  },
  {
   "cell_type": "code",
   "execution_count": null,
   "id": "e7aaa56f-b968-482e-92f9-e9565f4ebf39",
   "metadata": {},
   "outputs": [],
   "source": [
    "#for col in df.columns:\n",
    "#    print(col)"
   ]
  },
  {
   "cell_type": "code",
   "execution_count": null,
   "id": "bb2f50d1-0618-45b2-9b5e-3b8a073983bc",
   "metadata": {},
   "outputs": [],
   "source": [
    "plt.hist(df[\"ez_z_phot\"].values,bins=100);"
   ]
  },
  {
   "cell_type": "code",
   "execution_count": null,
   "id": "7383a8dc-b377-4845-a2ab-9e79f91495a0",
   "metadata": {},
   "outputs": [],
   "source": []
  }
 ],
 "metadata": {
  "kernelspec": {
   "display_name": "anaconda3_auxtel",
   "language": "python",
   "name": "anaconda3_auxtel"
  },
  "language_info": {
   "codemirror_mode": {
    "name": "ipython",
    "version": 3
   },
   "file_extension": ".py",
   "mimetype": "text/x-python",
   "name": "python",
   "nbconvert_exporter": "python",
   "pygments_lexer": "ipython3",
   "version": "3.8.5"
  }
 },
 "nbformat": 4,
 "nbformat_minor": 5
}
